{
 "cells": [
  {
   "cell_type": "markdown",
   "metadata": {},
   "source": [
    "## Import Statements"
   ]
  },
  {
   "cell_type": "code",
   "execution_count": 1,
   "metadata": {},
   "outputs": [],
   "source": [
    "import pandas as pd\n",
    "import numpy as np\n",
    "\n",
    "import seaborn as sn\n",
    "import matplotlib.pyplot as plt\n",
    "%matplotlib inline\n",
    "import mpld3\n",
    "mpld3.enable_notebook()"
   ]
  },
  {
   "cell_type": "code",
   "execution_count": 2,
   "metadata": {},
   "outputs": [],
   "source": [
    "from sklearn.decomposition import PCA\n",
    "from sklearn.utils import shuffle\n",
    "\n",
    "from sklearn.preprocessing import LabelEncoder, StandardScaler\n",
    "from sklearn.model_selection import train_test_split\n",
    "\n",
    "from sklearn.svm import SVC\n",
    "from sklearn.ensemble import RandomForestClassifier\n",
    "from xgboost import XGBClassifier\n",
    "from sklearn.neighbors import KNeighborsClassifier\n",
    "\n",
    "import sklearn.metrics as mt\n",
    "from sklearn.metrics import confusion_matrix\n",
    "from sklearn.metrics import recall_score, precision_score, accuracy_score\n",
    "from sklearn.metrics import confusion_matrix, f1_score, classification_report\n",
    "from sklearn.model_selection import cross_val_score\n"
   ]
  },
  {
   "cell_type": "code",
   "execution_count": 3,
   "metadata": {},
   "outputs": [],
   "source": [
    "df=pd.read_csv(\"Extracted_Features.csv\")"
   ]
  },
  {
   "cell_type": "code",
   "execution_count": 4,
   "metadata": {},
   "outputs": [],
   "source": [
    "labels=df[\"label\"]"
   ]
  },
  {
   "cell_type": "code",
   "execution_count": 5,
   "metadata": {},
   "outputs": [
    {
     "data": {
      "text/html": [
       "<div>\n",
       "<style scoped>\n",
       "    .dataframe tbody tr th:only-of-type {\n",
       "        vertical-align: middle;\n",
       "    }\n",
       "\n",
       "    .dataframe tbody tr th {\n",
       "        vertical-align: top;\n",
       "    }\n",
       "\n",
       "    .dataframe thead th {\n",
       "        text-align: right;\n",
       "    }\n",
       "</style>\n",
       "<table border=\"1\" class=\"dataframe\">\n",
       "  <thead>\n",
       "    <tr style=\"text-align: right;\">\n",
       "      <th></th>\n",
       "      <th>rms</th>\n",
       "      <th>spectral_centroid</th>\n",
       "      <th>spectral_bandwidth</th>\n",
       "      <th>rolloff</th>\n",
       "      <th>zero_crossing_rate</th>\n",
       "      <th>mfcc_0</th>\n",
       "      <th>mfcc_1</th>\n",
       "      <th>mfcc_2</th>\n",
       "      <th>mfcc_3</th>\n",
       "      <th>mfcc_4</th>\n",
       "      <th>...</th>\n",
       "      <th>chroma_feature2</th>\n",
       "      <th>chroma_feature3</th>\n",
       "      <th>chroma_feature4</th>\n",
       "      <th>chroma_feature5</th>\n",
       "      <th>chroma_feature6</th>\n",
       "      <th>chroma_feature7</th>\n",
       "      <th>chroma_feature8</th>\n",
       "      <th>chroma_feature9</th>\n",
       "      <th>chroma_feature10</th>\n",
       "      <th>chroma_feature11</th>\n",
       "    </tr>\n",
       "  </thead>\n",
       "  <tbody>\n",
       "    <tr>\n",
       "      <th>0</th>\n",
       "      <td>0.027708</td>\n",
       "      <td>822.680638</td>\n",
       "      <td>981.072526</td>\n",
       "      <td>1262.673903</td>\n",
       "      <td>0.053256</td>\n",
       "      <td>-368.967957</td>\n",
       "      <td>208.658691</td>\n",
       "      <td>-22.032309</td>\n",
       "      <td>19.130318</td>\n",
       "      <td>-4.204968</td>\n",
       "      <td>...</td>\n",
       "      <td>0.207048</td>\n",
       "      <td>0.070548</td>\n",
       "      <td>0.147452</td>\n",
       "      <td>0.477905</td>\n",
       "      <td>0.626459</td>\n",
       "      <td>0.151434</td>\n",
       "      <td>0.110314</td>\n",
       "      <td>0.066976</td>\n",
       "      <td>0.148548</td>\n",
       "      <td>0.484164</td>\n",
       "    </tr>\n",
       "    <tr>\n",
       "      <th>1</th>\n",
       "      <td>0.030345</td>\n",
       "      <td>792.697670</td>\n",
       "      <td>1011.565049</td>\n",
       "      <td>1386.903921</td>\n",
       "      <td>0.046000</td>\n",
       "      <td>-367.093872</td>\n",
       "      <td>202.384766</td>\n",
       "      <td>-19.639700</td>\n",
       "      <td>26.754717</td>\n",
       "      <td>9.071178</td>\n",
       "      <td>...</td>\n",
       "      <td>0.105177</td>\n",
       "      <td>0.087379</td>\n",
       "      <td>0.185234</td>\n",
       "      <td>0.329481</td>\n",
       "      <td>0.653725</td>\n",
       "      <td>0.147405</td>\n",
       "      <td>0.113239</td>\n",
       "      <td>0.196123</td>\n",
       "      <td>0.088872</td>\n",
       "      <td>0.145747</td>\n",
       "    </tr>\n",
       "    <tr>\n",
       "      <th>2</th>\n",
       "      <td>0.043772</td>\n",
       "      <td>754.131484</td>\n",
       "      <td>818.186440</td>\n",
       "      <td>1282.385066</td>\n",
       "      <td>0.050755</td>\n",
       "      <td>-335.096588</td>\n",
       "      <td>232.035736</td>\n",
       "      <td>-28.312624</td>\n",
       "      <td>5.986394</td>\n",
       "      <td>4.942239</td>\n",
       "      <td>...</td>\n",
       "      <td>0.494817</td>\n",
       "      <td>0.221615</td>\n",
       "      <td>0.193345</td>\n",
       "      <td>0.196928</td>\n",
       "      <td>0.726970</td>\n",
       "      <td>0.212705</td>\n",
       "      <td>0.283977</td>\n",
       "      <td>0.484048</td>\n",
       "      <td>0.166477</td>\n",
       "      <td>0.131439</td>\n",
       "    </tr>\n",
       "    <tr>\n",
       "      <th>3</th>\n",
       "      <td>0.013009</td>\n",
       "      <td>780.648826</td>\n",
       "      <td>1009.536041</td>\n",
       "      <td>1193.519193</td>\n",
       "      <td>0.050901</td>\n",
       "      <td>-460.787140</td>\n",
       "      <td>207.256363</td>\n",
       "      <td>-3.270107</td>\n",
       "      <td>5.706173</td>\n",
       "      <td>3.388237</td>\n",
       "      <td>...</td>\n",
       "      <td>0.517036</td>\n",
       "      <td>0.222859</td>\n",
       "      <td>0.502949</td>\n",
       "      <td>0.298696</td>\n",
       "      <td>0.076878</td>\n",
       "      <td>0.166129</td>\n",
       "      <td>0.111350</td>\n",
       "      <td>0.257231</td>\n",
       "      <td>0.080106</td>\n",
       "      <td>0.036364</td>\n",
       "    </tr>\n",
       "    <tr>\n",
       "      <th>4</th>\n",
       "      <td>0.022567</td>\n",
       "      <td>727.330357</td>\n",
       "      <td>896.024404</td>\n",
       "      <td>1209.834736</td>\n",
       "      <td>0.041331</td>\n",
       "      <td>-404.348633</td>\n",
       "      <td>210.581635</td>\n",
       "      <td>-11.188134</td>\n",
       "      <td>9.544372</td>\n",
       "      <td>7.744558</td>\n",
       "      <td>...</td>\n",
       "      <td>0.322592</td>\n",
       "      <td>0.139511</td>\n",
       "      <td>0.302399</td>\n",
       "      <td>0.312285</td>\n",
       "      <td>0.162535</td>\n",
       "      <td>0.362996</td>\n",
       "      <td>0.116259</td>\n",
       "      <td>0.172835</td>\n",
       "      <td>0.334886</td>\n",
       "      <td>0.242847</td>\n",
       "    </tr>\n",
       "  </tbody>\n",
       "</table>\n",
       "<p>5 rows × 30 columns</p>\n",
       "</div>"
      ],
      "text/plain": [
       "        rms  spectral_centroid  spectral_bandwidth      rolloff  \\\n",
       "0  0.027708         822.680638          981.072526  1262.673903   \n",
       "1  0.030345         792.697670         1011.565049  1386.903921   \n",
       "2  0.043772         754.131484          818.186440  1282.385066   \n",
       "3  0.013009         780.648826         1009.536041  1193.519193   \n",
       "4  0.022567         727.330357          896.024404  1209.834736   \n",
       "\n",
       "   zero_crossing_rate      mfcc_0      mfcc_1     mfcc_2     mfcc_3    mfcc_4  \\\n",
       "0            0.053256 -368.967957  208.658691 -22.032309  19.130318 -4.204968   \n",
       "1            0.046000 -367.093872  202.384766 -19.639700  26.754717  9.071178   \n",
       "2            0.050755 -335.096588  232.035736 -28.312624   5.986394  4.942239   \n",
       "3            0.050901 -460.787140  207.256363  -3.270107   5.706173  3.388237   \n",
       "4            0.041331 -404.348633  210.581635 -11.188134   9.544372  7.744558   \n",
       "\n",
       "   ...  chroma_feature2  chroma_feature3  chroma_feature4  chroma_feature5  \\\n",
       "0  ...         0.207048         0.070548         0.147452         0.477905   \n",
       "1  ...         0.105177         0.087379         0.185234         0.329481   \n",
       "2  ...         0.494817         0.221615         0.193345         0.196928   \n",
       "3  ...         0.517036         0.222859         0.502949         0.298696   \n",
       "4  ...         0.322592         0.139511         0.302399         0.312285   \n",
       "\n",
       "   chroma_feature6  chroma_feature7  chroma_feature8  chroma_feature9  \\\n",
       "0         0.626459         0.151434         0.110314         0.066976   \n",
       "1         0.653725         0.147405         0.113239         0.196123   \n",
       "2         0.726970         0.212705         0.283977         0.484048   \n",
       "3         0.076878         0.166129         0.111350         0.257231   \n",
       "4         0.162535         0.362996         0.116259         0.172835   \n",
       "\n",
       "   chroma_feature10  chroma_feature11  \n",
       "0          0.148548          0.484164  \n",
       "1          0.088872          0.145747  \n",
       "2          0.166477          0.131439  \n",
       "3          0.080106          0.036364  \n",
       "4          0.334886          0.242847  \n",
       "\n",
       "[5 rows x 30 columns]"
      ]
     },
     "execution_count": 5,
     "metadata": {},
     "output_type": "execute_result"
    }
   ],
   "source": [
    "data=df.drop(['filename',\"label\"],axis=1)\n",
    "data.head()"
   ]
  },
  {
   "cell_type": "markdown",
   "metadata": {},
   "source": [
    "# Dimensionality Reduction (PCA)"
   ]
  },
  {
   "cell_type": "code",
   "execution_count": 6,
   "metadata": {},
   "outputs": [],
   "source": [
    "sc=StandardScaler()\n",
    "data_scaled=sc.fit_transform(data)\n",
    "data=pd.DataFrame(data_scaled)"
   ]
  },
  {
   "cell_type": "code",
   "execution_count": 7,
   "metadata": {},
   "outputs": [],
   "source": [
    "pc = PCA(n_components=30)"
   ]
  },
  {
   "cell_type": "code",
   "execution_count": 8,
   "metadata": {
    "scrolled": true
   },
   "outputs": [
    {
     "data": {
      "text/plain": [
       "PCA(n_components=30)"
      ]
     },
     "execution_count": 8,
     "metadata": {},
     "output_type": "execute_result"
    }
   ],
   "source": [
    "pc.fit(data)"
   ]
  },
  {
   "cell_type": "code",
   "execution_count": 9,
   "metadata": {},
   "outputs": [
    {
     "data": {
      "text/plain": [
       "array([7.63263668e+00, 2.97113076e+00, 2.09497924e+00, 1.73607813e+00,\n",
       "       1.58306821e+00, 1.34434039e+00, 1.23970628e+00, 1.18830665e+00,\n",
       "       1.04501404e+00, 9.33993547e-01, 9.05504283e-01, 8.10160338e-01,\n",
       "       7.70543312e-01, 6.72712520e-01, 6.22837710e-01, 5.81483825e-01,\n",
       "       5.49559111e-01, 5.28766838e-01, 5.02631178e-01, 4.21034049e-01,\n",
       "       3.76461410e-01, 3.64006741e-01, 3.40658988e-01, 3.28779483e-01,\n",
       "       1.96588570e-01, 1.20228735e-01, 8.85239608e-02, 4.63669575e-02,\n",
       "       1.67490463e-02, 4.10774699e-03])"
      ]
     },
     "execution_count": 9,
     "metadata": {},
     "output_type": "execute_result"
    }
   ],
   "source": [
    "pc.explained_variance_"
   ]
  },
  {
   "cell_type": "code",
   "execution_count": 10,
   "metadata": {},
   "outputs": [
    {
     "name": "stdout",
     "output_type": "stream",
     "text": [
      "30.016958733747863\n"
     ]
    }
   ],
   "source": [
    "print(sum(pc.explained_variance_))\n",
    "var= pc.explained_variance_ratio_"
   ]
  },
  {
   "cell_type": "code",
   "execution_count": 11,
   "metadata": {},
   "outputs": [],
   "source": [
    "var1=np.cumsum(np.round(pc.explained_variance_ratio_, decimals=4)*100)\n"
   ]
  },
  {
   "cell_type": "code",
   "execution_count": 12,
   "metadata": {},
   "outputs": [
    {
     "data": {
      "image/png": "[encoded data removed]",
      "text/html": [
       "\n",
       "\n",
       "<style>\n",
       "\n",
       "</style>\n",
       "\n",
       "<div id=\"fig_el30562417568364432957462435\"></div>\n",
       "<script>\n",
       "function mpld3_load_lib(url, callback){\n",
       "  var s = document.createElement('script');\n",
       "  s.src = url;\n",
       "  s.async = true;\n",
       "  s.onreadystatechange = s.onload = callback;\n",
       "  s.onerror = function(){console.warn(\"failed to load library \" + url);};\n",
       "  document.getElementsByTagName(\"head\")[0].appendChild(s);\n",
       "}\n",
       "\n",
       "if(typeof(mpld3) !== \"undefined\" && mpld3._mpld3IsLoaded){\n",
       "   // already loaded: just create the figure\n",
       "   !function(mpld3){\n",
       "       \n",
       "       mpld3.draw_figure(\"fig_el30562417568364432957462435\", {\"width\": 576.0, \"height\": 288.0, \"axes\": [{\"bbox\": [0.125, 0.125, 0.775, 0.755], \"xlim\": [-1.4500000000000002, 30.45], \"ylim\": [21.703000000000003, 103.69700000000002], \"xdomain\": [-1.4500000000000002, 30.45], \"ydomain\": [21.703000000000003, 103.69700000000002], \"xscale\": \"linear\", \"yscale\": \"linear\", \"axes\": [{\"position\": \"bottom\", \"nticks\": 9, \"tickvalues\": null, \"tickformat_formatter\": \"\", \"tickformat\": null, \"scale\": \"linear\", \"fontsize\": 10.0, \"grid\": {\"gridOn\": false}, \"visible\": true}, {\"position\": \"left\", \"nticks\": 10, \"tickvalues\": null, \"tickformat_formatter\": \"\", \"tickformat\": null, \"scale\": \"linear\", \"fontsize\": 10.0, \"grid\": {\"gridOn\": false}, \"visible\": true}], \"axesbg\": \"#FFFFFF\", \"axesbgalpha\": null, \"zoomable\": true, \"id\": \"el30562417568364336\", \"lines\": [{\"data\": \"data01\", \"xindex\": 0, \"yindex\": 1, \"coordinates\": \"data\", \"id\": \"el30562417568641760\", \"color\": \"#FF0000\", \"linewidth\": 2.0, \"dasharray\": \"none\", \"alpha\": 1, \"zorder\": 2, \"drawstyle\": \"default\"}], \"paths\": [], \"markers\": [{\"data\": \"data01\", \"xindex\": 0, \"yindex\": 1, \"coordinates\": \"data\", \"id\": \"el30562417568641760pts\", \"facecolor\": \"#FF0000\", \"edgecolor\": \"#FF0000\", \"edgewidth\": 1.0, \"alpha\": 1, \"zorder\": 2, \"markerpath\": [[[0.0, 3.0], [0.7956093000000001, 3.0], [1.5587396123545605, 2.683901074764725], [2.121320343559643, 2.121320343559643], [2.683901074764725, 1.5587396123545605], [3.0, 0.7956093000000001], [3.0, 0.0], [3.0, -0.7956093000000001], [2.683901074764725, -1.5587396123545605], [2.121320343559643, -2.121320343559643], [1.5587396123545605, -2.683901074764725], [0.7956093000000001, -3.0], [0.0, -3.0], [-0.7956093000000001, -3.0], [-1.5587396123545605, -2.683901074764725], [-2.121320343559643, -2.121320343559643], [-2.683901074764725, -1.5587396123545605], [-3.0, -0.7956093000000001], [-3.0, 0.0], [-3.0, 0.7956093000000001], [-2.683901074764725, 1.5587396123545605], [-2.121320343559643, 2.121320343559643], [-1.5587396123545605, 2.683901074764725], [-0.7956093000000001, 3.0], [0.0, 3.0]], [\"M\", \"C\", \"C\", \"C\", \"C\", \"C\", \"C\", \"C\", \"C\", \"Z\"]]}], \"texts\": [{\"text\": \"Principal components\", \"position\": [0.5, -0.09657836644591614], \"coordinates\": \"axes\", \"h_anchor\": \"middle\", \"v_baseline\": \"hanging\", \"rotation\": -0.0, \"fontsize\": 10.0, \"color\": \"#000000\", \"alpha\": 1, \"zorder\": 3, \"id\": \"el30562417568421824\"}, {\"text\": \"Cumulative explained variance ratio\", \"position\": [-0.06748431899641576, 0.4999999999999999], \"coordinates\": \"axes\", \"h_anchor\": \"middle\", \"v_baseline\": \"auto\", \"rotation\": -90.0, \"fontsize\": 10.0, \"color\": \"#000000\", \"alpha\": 1, \"zorder\": 3, \"id\": \"el30562417568423744\"}, {\"text\": \"Cumulative Explained Variance\", \"position\": [0.5, 1.0275938189845473], \"coordinates\": \"axes\", \"h_anchor\": \"middle\", \"v_baseline\": \"auto\", \"rotation\": -0.0, \"fontsize\": 12.0, \"color\": \"#000000\", \"alpha\": 1, \"zorder\": 3, \"id\": \"el30562417568542288\"}], \"collections\": [], \"images\": [], \"sharex\": [], \"sharey\": []}], \"data\": {\"data01\": [[0.0, 25.430000000000003], [1.0, 35.330000000000005], [2.0, 42.31], [3.0, 48.09], [4.0, 53.36], [5.0, 57.839999999999996], [6.0, 61.97], [7.0, 65.92999999999999], [8.0, 69.41], [9.0, 72.52], [10.0, 75.53999999999999], [11.0, 78.24], [12.0, 80.81], [13.0, 83.05], [14.0, 85.11999999999999], [15.0, 87.05999999999999], [16.0, 88.88999999999999], [17.0, 90.64999999999999], [18.0, 92.32], [19.0, 93.72], [20.0, 94.97], [21.0, 96.17999999999999], [22.0, 97.30999999999999], [23.0, 98.40999999999998], [24.0, 99.05999999999999], [25.0, 99.46], [26.0, 99.75], [27.0, 99.9], [28.0, 99.96000000000001], [29.0, 99.97000000000001]]}, \"id\": \"el30562417568364432\", \"plugins\": [{\"type\": \"reset\"}, {\"type\": \"zoom\", \"button\": true, \"enabled\": false}, {\"type\": \"boxzoom\", \"button\": true, \"enabled\": false}]});\n",
       "   }(mpld3);\n",
       "}else if(typeof define === \"function\" && define.amd){\n",
       "   // require.js is available: use it to load d3/mpld3\n",
       "   require.config({paths: {d3: \"https://d3js.org/d3.v5\"}});\n",
       "   require([\"d3\"], function(d3){\n",
       "      window.d3 = d3;\n",
       "      mpld3_load_lib(\"https://mpld3.github.io/js/mpld3.v0.5.2.js\", function(){\n",
       "         \n",
       "         mpld3.draw_figure(\"fig_el30562417568364432957462435\", {\"width\": 576.0, \"height\": 288.0, \"axes\": [{\"bbox\": [0.125, 0.125, 0.775, 0.755], \"xlim\": [-1.4500000000000002, 30.45], \"ylim\": [21.703000000000003, 103.69700000000002], \"xdomain\": [-1.4500000000000002, 30.45], \"ydomain\": [21.703000000000003, 103.69700000000002], \"xscale\": \"linear\", \"yscale\": \"linear\", \"axes\": [{\"position\": \"bottom\", \"nticks\": 9, \"tickvalues\": null, \"tickformat_formatter\": \"\", \"tickformat\": null, \"scale\": \"linear\", \"fontsize\": 10.0, \"grid\": {\"gridOn\": false}, \"visible\": true}, {\"position\": \"left\", \"nticks\": 10, \"tickvalues\": null, \"tickformat_formatter\": \"\", \"tickformat\": null, \"scale\": \"linear\", \"fontsize\": 10.0, \"grid\": {\"gridOn\": false}, \"visible\": true}], \"axesbg\": \"#FFFFFF\", \"axesbgalpha\": null, \"zoomable\": true, \"id\": \"el30562417568364336\", \"lines\": [{\"data\": \"data01\", \"xindex\": 0, \"yindex\": 1, \"coordinates\": \"data\", \"id\": \"el30562417568641760\", \"color\": \"#FF0000\", \"linewidth\": 2.0, \"dasharray\": \"none\", \"alpha\": 1, \"zorder\": 2, \"drawstyle\": \"default\"}], \"paths\": [], \"markers\": [{\"data\": \"data01\", \"xindex\": 0, \"yindex\": 1, \"coordinates\": \"data\", \"id\": \"el30562417568641760pts\", \"facecolor\": \"#FF0000\", \"edgecolor\": \"#FF0000\", \"edgewidth\": 1.0, \"alpha\": 1, \"zorder\": 2, \"markerpath\": [[[0.0, 3.0], [0.7956093000000001, 3.0], [1.5587396123545605, 2.683901074764725], [2.121320343559643, 2.121320343559643], [2.683901074764725, 1.5587396123545605], [3.0, 0.7956093000000001], [3.0, 0.0], [3.0, -0.7956093000000001], [2.683901074764725, -1.5587396123545605], [2.121320343559643, -2.121320343559643], [1.5587396123545605, -2.683901074764725], [0.7956093000000001, -3.0], [0.0, -3.0], [-0.7956093000000001, -3.0], [-1.5587396123545605, -2.683901074764725], [-2.121320343559643, -2.121320343559643], [-2.683901074764725, -1.5587396123545605], [-3.0, -0.7956093000000001], [-3.0, 0.0], [-3.0, 0.7956093000000001], [-2.683901074764725, 1.5587396123545605], [-2.121320343559643, 2.121320343559643], [-1.5587396123545605, 2.683901074764725], [-0.7956093000000001, 3.0], [0.0, 3.0]], [\"M\", \"C\", \"C\", \"C\", \"C\", \"C\", \"C\", \"C\", \"C\", \"Z\"]]}], \"texts\": [{\"text\": \"Principal components\", \"position\": [0.5, -0.09657836644591614], \"coordinates\": \"axes\", \"h_anchor\": \"middle\", \"v_baseline\": \"hanging\", \"rotation\": -0.0, \"fontsize\": 10.0, \"color\": \"#000000\", \"alpha\": 1, \"zorder\": 3, \"id\": \"el30562417568421824\"}, {\"text\": \"Cumulative explained variance ratio\", \"position\": [-0.06748431899641576, 0.4999999999999999], \"coordinates\": \"axes\", \"h_anchor\": \"middle\", \"v_baseline\": \"auto\", \"rotation\": -90.0, \"fontsize\": 10.0, \"color\": \"#000000\", \"alpha\": 1, \"zorder\": 3, \"id\": \"el30562417568423744\"}, {\"text\": \"Cumulative Explained Variance\", \"position\": [0.5, 1.0275938189845473], \"coordinates\": \"axes\", \"h_anchor\": \"middle\", \"v_baseline\": \"auto\", \"rotation\": -0.0, \"fontsize\": 12.0, \"color\": \"#000000\", \"alpha\": 1, \"zorder\": 3, \"id\": \"el30562417568542288\"}], \"collections\": [], \"images\": [], \"sharex\": [], \"sharey\": []}], \"data\": {\"data01\": [[0.0, 25.430000000000003], [1.0, 35.330000000000005], [2.0, 42.31], [3.0, 48.09], [4.0, 53.36], [5.0, 57.839999999999996], [6.0, 61.97], [7.0, 65.92999999999999], [8.0, 69.41], [9.0, 72.52], [10.0, 75.53999999999999], [11.0, 78.24], [12.0, 80.81], [13.0, 83.05], [14.0, 85.11999999999999], [15.0, 87.05999999999999], [16.0, 88.88999999999999], [17.0, 90.64999999999999], [18.0, 92.32], [19.0, 93.72], [20.0, 94.97], [21.0, 96.17999999999999], [22.0, 97.30999999999999], [23.0, 98.40999999999998], [24.0, 99.05999999999999], [25.0, 99.46], [26.0, 99.75], [27.0, 99.9], [28.0, 99.96000000000001], [29.0, 99.97000000000001]]}, \"id\": \"el30562417568364432\", \"plugins\": [{\"type\": \"reset\"}, {\"type\": \"zoom\", \"button\": true, \"enabled\": false}, {\"type\": \"boxzoom\", \"button\": true, \"enabled\": false}]});\n",
       "      });\n",
       "    });\n",
       "}else{\n",
       "    // require.js not available: dynamically load d3 & mpld3\n",
       "    mpld3_load_lib(\"https://d3js.org/d3.v5.js\", function(){\n",
       "         mpld3_load_lib(\"https://mpld3.github.io/js/mpld3.v0.5.2.js\", function(){\n",
       "                 \n",
       "                 mpld3.draw_figure(\"fig_el30562417568364432957462435\", {\"width\": 576.0, \"height\": 288.0, \"axes\": [{\"bbox\": [0.125, 0.125, 0.775, 0.755], \"xlim\": [-1.4500000000000002, 30.45], \"ylim\": [21.703000000000003, 103.69700000000002], \"xdomain\": [-1.4500000000000002, 30.45], \"ydomain\": [21.703000000000003, 103.69700000000002], \"xscale\": \"linear\", \"yscale\": \"linear\", \"axes\": [{\"position\": \"bottom\", \"nticks\": 9, \"tickvalues\": null, \"tickformat_formatter\": \"\", \"tickformat\": null, \"scale\": \"linear\", \"fontsize\": 10.0, \"grid\": {\"gridOn\": false}, \"visible\": true}, {\"position\": \"left\", \"nticks\": 10, \"tickvalues\": null, \"tickformat_formatter\": \"\", \"tickformat\": null, \"scale\": \"linear\", \"fontsize\": 10.0, \"grid\": {\"gridOn\": false}, \"visible\": true}], \"axesbg\": \"#FFFFFF\", \"axesbgalpha\": null, \"zoomable\": true, \"id\": \"el30562417568364336\", \"lines\": [{\"data\": \"data01\", \"xindex\": 0, \"yindex\": 1, \"coordinates\": \"data\", \"id\": \"el30562417568641760\", \"color\": \"#FF0000\", \"linewidth\": 2.0, \"dasharray\": \"none\", \"alpha\": 1, \"zorder\": 2, \"drawstyle\": \"default\"}], \"paths\": [], \"markers\": [{\"data\": \"data01\", \"xindex\": 0, \"yindex\": 1, \"coordinates\": \"data\", \"id\": \"el30562417568641760pts\", \"facecolor\": \"#FF0000\", \"edgecolor\": \"#FF0000\", \"edgewidth\": 1.0, \"alpha\": 1, \"zorder\": 2, \"markerpath\": [[[0.0, 3.0], [0.7956093000000001, 3.0], [1.5587396123545605, 2.683901074764725], [2.121320343559643, 2.121320343559643], [2.683901074764725, 1.5587396123545605], [3.0, 0.7956093000000001], [3.0, 0.0], [3.0, -0.7956093000000001], [2.683901074764725, -1.5587396123545605], [2.121320343559643, -2.121320343559643], [1.5587396123545605, -2.683901074764725], [0.7956093000000001, -3.0], [0.0, -3.0], [-0.7956093000000001, -3.0], [-1.5587396123545605, -2.683901074764725], [-2.121320343559643, -2.121320343559643], [-2.683901074764725, -1.5587396123545605], [-3.0, -0.7956093000000001], [-3.0, 0.0], [-3.0, 0.7956093000000001], [-2.683901074764725, 1.5587396123545605], [-2.121320343559643, 2.121320343559643], [-1.5587396123545605, 2.683901074764725], [-0.7956093000000001, 3.0], [0.0, 3.0]], [\"M\", \"C\", \"C\", \"C\", \"C\", \"C\", \"C\", \"C\", \"C\", \"Z\"]]}], \"texts\": [{\"text\": \"Principal components\", \"position\": [0.5, -0.09657836644591614], \"coordinates\": \"axes\", \"h_anchor\": \"middle\", \"v_baseline\": \"hanging\", \"rotation\": -0.0, \"fontsize\": 10.0, \"color\": \"#000000\", \"alpha\": 1, \"zorder\": 3, \"id\": \"el30562417568421824\"}, {\"text\": \"Cumulative explained variance ratio\", \"position\": [-0.06748431899641576, 0.4999999999999999], \"coordinates\": \"axes\", \"h_anchor\": \"middle\", \"v_baseline\": \"auto\", \"rotation\": -90.0, \"fontsize\": 10.0, \"color\": \"#000000\", \"alpha\": 1, \"zorder\": 3, \"id\": \"el30562417568423744\"}, {\"text\": \"Cumulative Explained Variance\", \"position\": [0.5, 1.0275938189845473], \"coordinates\": \"axes\", \"h_anchor\": \"middle\", \"v_baseline\": \"auto\", \"rotation\": -0.0, \"fontsize\": 12.0, \"color\": \"#000000\", \"alpha\": 1, \"zorder\": 3, \"id\": \"el30562417568542288\"}], \"collections\": [], \"images\": [], \"sharex\": [], \"sharey\": []}], \"data\": {\"data01\": [[0.0, 25.430000000000003], [1.0, 35.330000000000005], [2.0, 42.31], [3.0, 48.09], [4.0, 53.36], [5.0, 57.839999999999996], [6.0, 61.97], [7.0, 65.92999999999999], [8.0, 69.41], [9.0, 72.52], [10.0, 75.53999999999999], [11.0, 78.24], [12.0, 80.81], [13.0, 83.05], [14.0, 85.11999999999999], [15.0, 87.05999999999999], [16.0, 88.88999999999999], [17.0, 90.64999999999999], [18.0, 92.32], [19.0, 93.72], [20.0, 94.97], [21.0, 96.17999999999999], [22.0, 97.30999999999999], [23.0, 98.40999999999998], [24.0, 99.05999999999999], [25.0, 99.46], [26.0, 99.75], [27.0, 99.9], [28.0, 99.96000000000001], [29.0, 99.97000000000001]]}, \"id\": \"el30562417568364432\", \"plugins\": [{\"type\": \"reset\"}, {\"type\": \"zoom\", \"button\": true, \"enabled\": false}, {\"type\": \"boxzoom\", \"button\": true, \"enabled\": false}]});\n",
       "            })\n",
       "         });\n",
       "}\n",
       "</script>"
      ],
      "text/plain": [
       "<Figure size 576x288 with 1 Axes>"
      ]
     },
     "metadata": {
      "needs_background": "light"
     },
     "output_type": "display_data"
    }
   ],
   "source": [
    "plt.figure(figsize=(8, 4))\n",
    "plt.plot(range(30),var1,'ro-', linewidth=2)\n",
    "plt.title('Cumulative Explained Variance')\n",
    "plt.ylabel('Cumulative explained variance ratio')\n",
    "plt.xlabel('Principal components')\n",
    "plt.show()"
   ]
  },
  {
   "cell_type": "code",
   "execution_count": 13,
   "metadata": {
    "scrolled": false
   },
   "outputs": [
    {
     "data": {
      "image/png": "[encoded data removed]",
      "text/html": [
       "\n",
       "\n",
       "<style>\n",
       "\n",
       "</style>\n",
       "\n",
       "<div id=\"fig_el305624175690399363303719215\"></div>\n",
       "<script>\n",
       "function mpld3_load_lib(url, callback){\n",
       "  var s = document.createElement('script');\n",
       "  s.src = url;\n",
       "  s.async = true;\n",
       "  s.onreadystatechange = s.onload = callback;\n",
       "  s.onerror = function(){console.warn(\"failed to load library \" + url);};\n",
       "  document.getElementsByTagName(\"head\")[0].appendChild(s);\n",
       "}\n",
       "\n",
       "if(typeof(mpld3) !== \"undefined\" && mpld3._mpld3IsLoaded){\n",
       "   // already loaded: just create the figure\n",
       "   !function(mpld3){\n",
       "       \n",
       "       mpld3.draw_figure(\"fig_el305624175690399363303719215\", {\"width\": 576.0, \"height\": 288.0, \"axes\": [{\"bbox\": [0.125, 0.125, 0.775, 0.755], \"xlim\": [-1.4500000000000002, 30.45], \"ylim\": [-0.012570184174505162, 0.26698451356878766], \"xdomain\": [-1.4500000000000002, 30.45], \"ydomain\": [-0.012570184174505162, 0.26698451356878766], \"xscale\": \"linear\", \"yscale\": \"linear\", \"axes\": [{\"position\": \"bottom\", \"nticks\": 9, \"tickvalues\": null, \"tickformat_formatter\": \"\", \"tickformat\": null, \"scale\": \"linear\", \"fontsize\": 10.0, \"grid\": {\"gridOn\": false}, \"visible\": true}, {\"position\": \"left\", \"nticks\": 8, \"tickvalues\": null, \"tickformat_formatter\": \"\", \"tickformat\": null, \"scale\": \"linear\", \"fontsize\": 10.0, \"grid\": {\"gridOn\": false}, \"visible\": true}], \"axesbg\": \"#FFFFFF\", \"axesbgalpha\": null, \"zoomable\": true, \"id\": \"el30562417569039120\", \"lines\": [{\"data\": \"data01\", \"xindex\": 0, \"yindex\": 1, \"coordinates\": \"data\", \"id\": \"el30562417569237264\", \"color\": \"#FF0000\", \"linewidth\": 2.0, \"dasharray\": \"none\", \"alpha\": 1, \"zorder\": 2, \"drawstyle\": \"default\"}], \"paths\": [], \"markers\": [{\"data\": \"data01\", \"xindex\": 0, \"yindex\": 1, \"coordinates\": \"data\", \"id\": \"el30562417569237264pts\", \"facecolor\": \"#FF0000\", \"edgecolor\": \"#FF0000\", \"edgewidth\": 1.0, \"alpha\": 1, \"zorder\": 2, \"markerpath\": [[[0.0, 3.0], [0.7956093000000001, 3.0], [1.5587396123545605, 2.683901074764725], [2.121320343559643, 2.121320343559643], [2.683901074764725, 1.5587396123545605], [3.0, 0.7956093000000001], [3.0, 0.0], [3.0, -0.7956093000000001], [2.683901074764725, -1.5587396123545605], [2.121320343559643, -2.121320343559643], [1.5587396123545605, -2.683901074764725], [0.7956093000000001, -3.0], [0.0, -3.0], [-0.7956093000000001, -3.0], [-1.5587396123545605, -2.683901074764725], [-2.121320343559643, -2.121320343559643], [-2.683901074764725, -1.5587396123545605], [-3.0, -0.7956093000000001], [-3.0, 0.0], [-3.0, 0.7956093000000001], [-2.683901074764725, 1.5587396123545605], [-2.121320343559643, 2.121320343559643], [-1.5587396123545605, 2.683901074764725], [-0.7956093000000001, 3.0], [0.0, 3.0]], [\"M\", \"C\", \"C\", \"C\", \"C\", \"C\", \"C\", \"C\", \"C\", \"Z\"]]}], \"texts\": [{\"text\": \"Principal Component\", \"position\": [0.5, -0.09657836644591614], \"coordinates\": \"axes\", \"h_anchor\": \"middle\", \"v_baseline\": \"hanging\", \"rotation\": -0.0, \"fontsize\": 10.0, \"color\": \"#000000\", \"alpha\": 1, \"zorder\": 3, \"id\": \"el30562417568363472\"}, {\"text\": \"Proportion of Variance Explained\", \"position\": [-0.07476478494623655, 0.4999999999999999], \"coordinates\": \"axes\", \"h_anchor\": \"middle\", \"v_baseline\": \"auto\", \"rotation\": -90.0, \"fontsize\": 10.0, \"color\": \"#000000\", \"alpha\": 1, \"zorder\": 3, \"id\": \"el30562417569085664\"}, {\"text\": \"Scree Plot\", \"position\": [0.5, 1.0275938189845473], \"coordinates\": \"axes\", \"h_anchor\": \"middle\", \"v_baseline\": \"auto\", \"rotation\": -0.0, \"fontsize\": 12.0, \"color\": \"#000000\", \"alpha\": 1, \"zorder\": 3, \"id\": \"el30562417569101328\"}], \"collections\": [], \"images\": [], \"sharex\": [], \"sharey\": []}], \"data\": {\"data01\": [[0.0, 0.25427748185318344], [1.0, 0.0989817384333501], [2.0, 0.06979318789160945], [3.0, 0.057836576519775036], [4.0, 0.052739127298175974], [5.0, 0.04478602935280931], [6.0, 0.04130019593867746], [7.0, 0.03958784312972017], [8.0, 0.03481412128527009], [9.0, 0.03111552889474065], [10.0, 0.030166423285036388], [11.0, 0.02699008733515431], [12.0, 0.025670265881580934], [13.0, 0.022411081884903608], [14.0, 0.020749527468122243], [15.0, 0.019371843430646133], [16.0, 0.018308287518371266], [17.0, 0.017615603313596198], [18.0, 0.01674490685759399], [19.0, 0.014026539218204463], [20.0, 0.0125416240078016], [21.0, 0.012126702908030714], [22.0, 0.011348884186382822], [23.0, 0.010953124402813881], [24.0, 0.006549250101566866], [25.0, 0.004005360319531996], [26.0, 0.002949131575027053], [27.0, 0.0015446920497921973], [28.0, 0.0005579861174324929], [29.0, 0.00013684754109905947]]}, \"id\": \"el30562417569039936\", \"plugins\": [{\"type\": \"reset\"}, {\"type\": \"zoom\", \"button\": true, \"enabled\": false}, {\"type\": \"boxzoom\", \"button\": true, \"enabled\": false}]});\n",
       "   }(mpld3);\n",
       "}else if(typeof define === \"function\" && define.amd){\n",
       "   // require.js is available: use it to load d3/mpld3\n",
       "   require.config({paths: {d3: \"https://d3js.org/d3.v5\"}});\n",
       "   require([\"d3\"], function(d3){\n",
       "      window.d3 = d3;\n",
       "      mpld3_load_lib(\"https://mpld3.github.io/js/mpld3.v0.5.2.js\", function(){\n",
       "         \n",
       "         mpld3.draw_figure(\"fig_el305624175690399363303719215\", {\"width\": 576.0, \"height\": 288.0, \"axes\": [{\"bbox\": [0.125, 0.125, 0.775, 0.755], \"xlim\": [-1.4500000000000002, 30.45], \"ylim\": [-0.012570184174505162, 0.26698451356878766], \"xdomain\": [-1.4500000000000002, 30.45], \"ydomain\": [-0.012570184174505162, 0.26698451356878766], \"xscale\": \"linear\", \"yscale\": \"linear\", \"axes\": [{\"position\": \"bottom\", \"nticks\": 9, \"tickvalues\": null, \"tickformat_formatter\": \"\", \"tickformat\": null, \"scale\": \"linear\", \"fontsize\": 10.0, \"grid\": {\"gridOn\": false}, \"visible\": true}, {\"position\": \"left\", \"nticks\": 8, \"tickvalues\": null, \"tickformat_formatter\": \"\", \"tickformat\": null, \"scale\": \"linear\", \"fontsize\": 10.0, \"grid\": {\"gridOn\": false}, \"visible\": true}], \"axesbg\": \"#FFFFFF\", \"axesbgalpha\": null, \"zoomable\": true, \"id\": \"el30562417569039120\", \"lines\": [{\"data\": \"data01\", \"xindex\": 0, \"yindex\": 1, \"coordinates\": \"data\", \"id\": \"el30562417569237264\", \"color\": \"#FF0000\", \"linewidth\": 2.0, \"dasharray\": \"none\", \"alpha\": 1, \"zorder\": 2, \"drawstyle\": \"default\"}], \"paths\": [], \"markers\": [{\"data\": \"data01\", \"xindex\": 0, \"yindex\": 1, \"coordinates\": \"data\", \"id\": \"el30562417569237264pts\", \"facecolor\": \"#FF0000\", \"edgecolor\": \"#FF0000\", \"edgewidth\": 1.0, \"alpha\": 1, \"zorder\": 2, \"markerpath\": [[[0.0, 3.0], [0.7956093000000001, 3.0], [1.5587396123545605, 2.683901074764725], [2.121320343559643, 2.121320343559643], [2.683901074764725, 1.5587396123545605], [3.0, 0.7956093000000001], [3.0, 0.0], [3.0, -0.7956093000000001], [2.683901074764725, -1.5587396123545605], [2.121320343559643, -2.121320343559643], [1.5587396123545605, -2.683901074764725], [0.7956093000000001, -3.0], [0.0, -3.0], [-0.7956093000000001, -3.0], [-1.5587396123545605, -2.683901074764725], [-2.121320343559643, -2.121320343559643], [-2.683901074764725, -1.5587396123545605], [-3.0, -0.7956093000000001], [-3.0, 0.0], [-3.0, 0.7956093000000001], [-2.683901074764725, 1.5587396123545605], [-2.121320343559643, 2.121320343559643], [-1.5587396123545605, 2.683901074764725], [-0.7956093000000001, 3.0], [0.0, 3.0]], [\"M\", \"C\", \"C\", \"C\", \"C\", \"C\", \"C\", \"C\", \"C\", \"Z\"]]}], \"texts\": [{\"text\": \"Principal Component\", \"position\": [0.5, -0.09657836644591614], \"coordinates\": \"axes\", \"h_anchor\": \"middle\", \"v_baseline\": \"hanging\", \"rotation\": -0.0, \"fontsize\": 10.0, \"color\": \"#000000\", \"alpha\": 1, \"zorder\": 3, \"id\": \"el30562417568363472\"}, {\"text\": \"Proportion of Variance Explained\", \"position\": [-0.07476478494623655, 0.4999999999999999], \"coordinates\": \"axes\", \"h_anchor\": \"middle\", \"v_baseline\": \"auto\", \"rotation\": -90.0, \"fontsize\": 10.0, \"color\": \"#000000\", \"alpha\": 1, \"zorder\": 3, \"id\": \"el30562417569085664\"}, {\"text\": \"Scree Plot\", \"position\": [0.5, 1.0275938189845473], \"coordinates\": \"axes\", \"h_anchor\": \"middle\", \"v_baseline\": \"auto\", \"rotation\": -0.0, \"fontsize\": 12.0, \"color\": \"#000000\", \"alpha\": 1, \"zorder\": 3, \"id\": \"el30562417569101328\"}], \"collections\": [], \"images\": [], \"sharex\": [], \"sharey\": []}], \"data\": {\"data01\": [[0.0, 0.25427748185318344], [1.0, 0.0989817384333501], [2.0, 0.06979318789160945], [3.0, 0.057836576519775036], [4.0, 0.052739127298175974], [5.0, 0.04478602935280931], [6.0, 0.04130019593867746], [7.0, 0.03958784312972017], [8.0, 0.03481412128527009], [9.0, 0.03111552889474065], [10.0, 0.030166423285036388], [11.0, 0.02699008733515431], [12.0, 0.025670265881580934], [13.0, 0.022411081884903608], [14.0, 0.020749527468122243], [15.0, 0.019371843430646133], [16.0, 0.018308287518371266], [17.0, 0.017615603313596198], [18.0, 0.01674490685759399], [19.0, 0.014026539218204463], [20.0, 0.0125416240078016], [21.0, 0.012126702908030714], [22.0, 0.011348884186382822], [23.0, 0.010953124402813881], [24.0, 0.006549250101566866], [25.0, 0.004005360319531996], [26.0, 0.002949131575027053], [27.0, 0.0015446920497921973], [28.0, 0.0005579861174324929], [29.0, 0.00013684754109905947]]}, \"id\": \"el30562417569039936\", \"plugins\": [{\"type\": \"reset\"}, {\"type\": \"zoom\", \"button\": true, \"enabled\": false}, {\"type\": \"boxzoom\", \"button\": true, \"enabled\": false}]});\n",
       "      });\n",
       "    });\n",
       "}else{\n",
       "    // require.js not available: dynamically load d3 & mpld3\n",
       "    mpld3_load_lib(\"https://d3js.org/d3.v5.js\", function(){\n",
       "         mpld3_load_lib(\"https://mpld3.github.io/js/mpld3.v0.5.2.js\", function(){\n",
       "                 \n",
       "                 mpld3.draw_figure(\"fig_el305624175690399363303719215\", {\"width\": 576.0, \"height\": 288.0, \"axes\": [{\"bbox\": [0.125, 0.125, 0.775, 0.755], \"xlim\": [-1.4500000000000002, 30.45], \"ylim\": [-0.012570184174505162, 0.26698451356878766], \"xdomain\": [-1.4500000000000002, 30.45], \"ydomain\": [-0.012570184174505162, 0.26698451356878766], \"xscale\": \"linear\", \"yscale\": \"linear\", \"axes\": [{\"position\": \"bottom\", \"nticks\": 9, \"tickvalues\": null, \"tickformat_formatter\": \"\", \"tickformat\": null, \"scale\": \"linear\", \"fontsize\": 10.0, \"grid\": {\"gridOn\": false}, \"visible\": true}, {\"position\": \"left\", \"nticks\": 8, \"tickvalues\": null, \"tickformat_formatter\": \"\", \"tickformat\": null, \"scale\": \"linear\", \"fontsize\": 10.0, \"grid\": {\"gridOn\": false}, \"visible\": true}], \"axesbg\": \"#FFFFFF\", \"axesbgalpha\": null, \"zoomable\": true, \"id\": \"el30562417569039120\", \"lines\": [{\"data\": \"data01\", \"xindex\": 0, \"yindex\": 1, \"coordinates\": \"data\", \"id\": \"el30562417569237264\", \"color\": \"#FF0000\", \"linewidth\": 2.0, \"dasharray\": \"none\", \"alpha\": 1, \"zorder\": 2, \"drawstyle\": \"default\"}], \"paths\": [], \"markers\": [{\"data\": \"data01\", \"xindex\": 0, \"yindex\": 1, \"coordinates\": \"data\", \"id\": \"el30562417569237264pts\", \"facecolor\": \"#FF0000\", \"edgecolor\": \"#FF0000\", \"edgewidth\": 1.0, \"alpha\": 1, \"zorder\": 2, \"markerpath\": [[[0.0, 3.0], [0.7956093000000001, 3.0], [1.5587396123545605, 2.683901074764725], [2.121320343559643, 2.121320343559643], [2.683901074764725, 1.5587396123545605], [3.0, 0.7956093000000001], [3.0, 0.0], [3.0, -0.7956093000000001], [2.683901074764725, -1.5587396123545605], [2.121320343559643, -2.121320343559643], [1.5587396123545605, -2.683901074764725], [0.7956093000000001, -3.0], [0.0, -3.0], [-0.7956093000000001, -3.0], [-1.5587396123545605, -2.683901074764725], [-2.121320343559643, -2.121320343559643], [-2.683901074764725, -1.5587396123545605], [-3.0, -0.7956093000000001], [-3.0, 0.0], [-3.0, 0.7956093000000001], [-2.683901074764725, 1.5587396123545605], [-2.121320343559643, 2.121320343559643], [-1.5587396123545605, 2.683901074764725], [-0.7956093000000001, 3.0], [0.0, 3.0]], [\"M\", \"C\", \"C\", \"C\", \"C\", \"C\", \"C\", \"C\", \"C\", \"Z\"]]}], \"texts\": [{\"text\": \"Principal Component\", \"position\": [0.5, -0.09657836644591614], \"coordinates\": \"axes\", \"h_anchor\": \"middle\", \"v_baseline\": \"hanging\", \"rotation\": -0.0, \"fontsize\": 10.0, \"color\": \"#000000\", \"alpha\": 1, \"zorder\": 3, \"id\": \"el30562417568363472\"}, {\"text\": \"Proportion of Variance Explained\", \"position\": [-0.07476478494623655, 0.4999999999999999], \"coordinates\": \"axes\", \"h_anchor\": \"middle\", \"v_baseline\": \"auto\", \"rotation\": -90.0, \"fontsize\": 10.0, \"color\": \"#000000\", \"alpha\": 1, \"zorder\": 3, \"id\": \"el30562417569085664\"}, {\"text\": \"Scree Plot\", \"position\": [0.5, 1.0275938189845473], \"coordinates\": \"axes\", \"h_anchor\": \"middle\", \"v_baseline\": \"auto\", \"rotation\": -0.0, \"fontsize\": 12.0, \"color\": \"#000000\", \"alpha\": 1, \"zorder\": 3, \"id\": \"el30562417569101328\"}], \"collections\": [], \"images\": [], \"sharex\": [], \"sharey\": []}], \"data\": {\"data01\": [[0.0, 0.25427748185318344], [1.0, 0.0989817384333501], [2.0, 0.06979318789160945], [3.0, 0.057836576519775036], [4.0, 0.052739127298175974], [5.0, 0.04478602935280931], [6.0, 0.04130019593867746], [7.0, 0.03958784312972017], [8.0, 0.03481412128527009], [9.0, 0.03111552889474065], [10.0, 0.030166423285036388], [11.0, 0.02699008733515431], [12.0, 0.025670265881580934], [13.0, 0.022411081884903608], [14.0, 0.020749527468122243], [15.0, 0.019371843430646133], [16.0, 0.018308287518371266], [17.0, 0.017615603313596198], [18.0, 0.01674490685759399], [19.0, 0.014026539218204463], [20.0, 0.0125416240078016], [21.0, 0.012126702908030714], [22.0, 0.011348884186382822], [23.0, 0.010953124402813881], [24.0, 0.006549250101566866], [25.0, 0.004005360319531996], [26.0, 0.002949131575027053], [27.0, 0.0015446920497921973], [28.0, 0.0005579861174324929], [29.0, 0.00013684754109905947]]}, \"id\": \"el30562417569039936\", \"plugins\": [{\"type\": \"reset\"}, {\"type\": \"zoom\", \"button\": true, \"enabled\": false}, {\"type\": \"boxzoom\", \"button\": true, \"enabled\": false}]});\n",
       "            })\n",
       "         });\n",
       "}\n",
       "</script>"
      ],
      "text/plain": [
       "<Figure size 576x288 with 1 Axes>"
      ]
     },
     "metadata": {
      "needs_background": "light"
     },
     "output_type": "display_data"
    }
   ],
   "source": [
    "plt.figure(figsize=(8,4))\n",
    "plt.plot(range(30),var, 'ro-', linewidth=2)\n",
    "plt.title('Scree Plot')\n",
    "plt.xlabel('Principal Component')\n",
    "plt.ylabel('Proportion of Variance Explained')\n",
    "plt.show()"
   ]
  },
  {
   "cell_type": "code",
   "execution_count": 14,
   "metadata": {},
   "outputs": [],
   "source": [
    "pca=PCA(n_components=20)\n",
    "data_new=pca.fit_transform(data)"
   ]
  },
  {
   "cell_type": "code",
   "execution_count": 15,
   "metadata": {
    "scrolled": true
   },
   "outputs": [],
   "source": [
    "data_pca=pd.DataFrame(data_new)"
   ]
  },
  {
   "cell_type": "code",
   "execution_count": 16,
   "metadata": {},
   "outputs": [],
   "source": [
    "data_pca.columns=[f\"PCA_{i+1}\" for i in data_pca.columns]"
   ]
  },
  {
   "cell_type": "code",
   "execution_count": 17,
   "metadata": {},
   "outputs": [],
   "source": [
    "dataset=pd.concat([data_pca,labels],axis=1)"
   ]
  },
  {
   "cell_type": "code",
   "execution_count": 18,
   "metadata": {},
   "outputs": [],
   "source": [
    "dataset = shuffle(dataset)"
   ]
  },
  {
   "cell_type": "code",
   "execution_count": 19,
   "metadata": {
    "scrolled": true
   },
   "outputs": [
    {
     "data": {
      "text/plain": [
       "(1770, 21)"
      ]
     },
     "execution_count": 19,
     "metadata": {},
     "output_type": "execute_result"
    }
   ],
   "source": [
    "dataset.shape"
   ]
  },
  {
   "cell_type": "markdown",
   "metadata": {},
   "source": [
    "# Model Preperation\n",
    "\n",
    "* Label encoding\n",
    "* Train and Test Split"
   ]
  },
  {
   "cell_type": "code",
   "execution_count": 20,
   "metadata": {},
   "outputs": [],
   "source": [
    "instru_list = dataset.iloc[:, -1]\n",
    "encoder = LabelEncoder()\n",
    "y = encoder.fit_transform(instru_list)"
   ]
  },
  {
   "cell_type": "code",
   "execution_count": 21,
   "metadata": {},
   "outputs": [],
   "source": [
    "X=dataset.iloc[:, :-1]"
   ]
  },
  {
   "cell_type": "code",
   "execution_count": 22,
   "metadata": {},
   "outputs": [],
   "source": [
    "X_train, X_test, y_train, y_test = train_test_split(X, y, test_size=0.2,random_state=1234456)"
   ]
  },
  {
   "cell_type": "code",
   "execution_count": 23,
   "metadata": {},
   "outputs": [
    {
     "data": {
      "text/plain": [
       "(1416, 20)"
      ]
     },
     "execution_count": 23,
     "metadata": {},
     "output_type": "execute_result"
    }
   ],
   "source": [
    "X_train.shape"
   ]
  },
  {
   "cell_type": "code",
   "execution_count": 24,
   "metadata": {},
   "outputs": [
    {
     "data": {
      "text/plain": [
       "(354, 20)"
      ]
     },
     "execution_count": 24,
     "metadata": {},
     "output_type": "execute_result"
    }
   ],
   "source": [
    "X_test.shape"
   ]
  },
  {
   "cell_type": "markdown",
   "metadata": {},
   "source": [
    "### Support Vector Machines"
   ]
  },
  {
   "cell_type": "code",
   "execution_count": 25,
   "metadata": {},
   "outputs": [],
   "source": [
    "svclassifier = SVC(kernel='rbf',random_state=259641)\n",
    "svclassifier.fit(X_train, y_train)\n",
    "predicted_labels = svclassifier.predict(X_test)\n"
   ]
  },
  {
   "cell_type": "code",
   "execution_count": 26,
   "metadata": {},
   "outputs": [
    {
     "name": "stdout",
     "output_type": "stream",
     "text": [
      "              precision    recall  f1-score   support\n",
      "\n",
      "           0       0.88      0.82      0.84       120\n",
      "           1       0.81      0.69      0.74       116\n",
      "           2       0.74      0.90      0.81       118\n",
      "\n",
      "    accuracy                           0.80       354\n",
      "   macro avg       0.81      0.80      0.80       354\n",
      "weighted avg       0.81      0.80      0.80       354\n",
      "\n"
     ]
    }
   ],
   "source": [
    "print(mt.classification_report(y_test,predicted_labels))"
   ]
  },
  {
   "cell_type": "code",
   "execution_count": 27,
   "metadata": {
    "scrolled": true
   },
   "outputs": [
    {
     "data": {
      "text/plain": [
       "array([[ 98,  11,  11],\n",
       "       [ 10,  80,  26],\n",
       "       [  4,   8, 106]], dtype=int64)"
      ]
     },
     "execution_count": 27,
     "metadata": {},
     "output_type": "execute_result"
    }
   ],
   "source": [
    "cm=confusion_matrix(y_test, predicted_labels)\n",
    "cm"
   ]
  },
  {
   "cell_type": "markdown",
   "metadata": {},
   "source": [
    "### Random Forest"
   ]
  },
  {
   "cell_type": "code",
   "execution_count": 28,
   "metadata": {},
   "outputs": [],
   "source": [
    "RFClassifier = RandomForestClassifier(random_state=128649)\n",
    "RFClassifier.fit(X_train, y_train)\n",
    "predicted_labels = RFClassifier.predict(X_test)\n"
   ]
  },
  {
   "cell_type": "code",
   "execution_count": 29,
   "metadata": {},
   "outputs": [
    {
     "name": "stdout",
     "output_type": "stream",
     "text": [
      "              precision    recall  f1-score   support\n",
      "\n",
      "           0       0.86      0.84      0.85       120\n",
      "           1       0.81      0.68      0.74       116\n",
      "           2       0.77      0.90      0.83       118\n",
      "\n",
      "    accuracy                           0.81       354\n",
      "   macro avg       0.81      0.81      0.81       354\n",
      "weighted avg       0.81      0.81      0.81       354\n",
      "\n"
     ]
    }
   ],
   "source": [
    "print(mt.classification_report(y_test,RFClassifier.predict(X_test)))"
   ]
  },
  {
   "cell_type": "code",
   "execution_count": 30,
   "metadata": {},
   "outputs": [
    {
     "data": {
      "text/plain": [
       "array([[101,  10,   9],\n",
       "       [ 14,  79,  23],\n",
       "       [  3,   9, 106]], dtype=int64)"
      ]
     },
     "execution_count": 30,
     "metadata": {},
     "output_type": "execute_result"
    }
   ],
   "source": [
    "cm1=confusion_matrix(y_test, predicted_labels)\n",
    "cm1"
   ]
  },
  {
   "cell_type": "markdown",
   "metadata": {},
   "source": [
    "### Xgboost"
   ]
  },
  {
   "cell_type": "code",
   "execution_count": 31,
   "metadata": {},
   "outputs": [
    {
     "name": "stdout",
     "output_type": "stream",
     "text": [
      "[18:48:03] WARNING: C:/Users/Administrator/workspace/xgboost-win64_release_1.4.0/src/learner.cc:1095: Starting in XGBoost 1.3.0, the default evaluation metric used with the objective 'multi:softprob' was changed from 'merror' to 'mlogloss'. Explicitly set eval_metric if you'd like to restore the old behavior.\n"
     ]
    },
    {
     "name": "stderr",
     "output_type": "stream",
     "text": [
      "C:\\Users\\Josmi Agnes Jose\\anaconda3\\lib\\site-packages\\xgboost\\data.py:112: UserWarning: Use subset (sliced data) of np.ndarray is not recommended because it will generate extra copies and increase memory consumption\n",
      "  warnings.warn(\n"
     ]
    }
   ],
   "source": [
    "XGBvlassifier = XGBClassifier(random_state=1289564,use_label_encoder=False)\n",
    "XGBvlassifier.fit(X_train, y_train)\n",
    "predicted_labels = XGBvlassifier.predict(X_test)"
   ]
  },
  {
   "cell_type": "code",
   "execution_count": 32,
   "metadata": {},
   "outputs": [
    {
     "name": "stdout",
     "output_type": "stream",
     "text": [
      "              precision    recall  f1-score   support\n",
      "\n",
      "           0       0.82      0.82      0.82       120\n",
      "           1       0.79      0.66      0.72       116\n",
      "           2       0.76      0.87      0.81       118\n",
      "\n",
      "    accuracy                           0.79       354\n",
      "   macro avg       0.79      0.79      0.79       354\n",
      "weighted avg       0.79      0.79      0.79       354\n",
      "\n"
     ]
    }
   ],
   "source": [
    "print(mt.classification_report(y_test,predicted_labels))"
   ]
  },
  {
   "cell_type": "code",
   "execution_count": 33,
   "metadata": {},
   "outputs": [
    {
     "data": {
      "text/plain": [
       "array([[ 99,  11,  10],\n",
       "       [ 16,  77,  23],\n",
       "       [  5,  10, 103]], dtype=int64)"
      ]
     },
     "execution_count": 33,
     "metadata": {},
     "output_type": "execute_result"
    }
   ],
   "source": [
    "cm2=confusion_matrix(y_test, predicted_labels)\n",
    "cm2"
   ]
  },
  {
   "cell_type": "markdown",
   "metadata": {},
   "source": [
    "### K Nearest Neighbor"
   ]
  },
  {
   "cell_type": "code",
   "execution_count": 34,
   "metadata": {},
   "outputs": [],
   "source": [
    "classifier = KNeighborsClassifier(n_neighbors = 66)\n",
    "classifier.fit(X_train, y_train)\n",
    "y_pred = classifier.predict(X_test)"
   ]
  },
  {
   "cell_type": "code",
   "execution_count": 35,
   "metadata": {},
   "outputs": [
    {
     "data": {
      "text/plain": [
       "array([[101,   2,  17],\n",
       "       [ 28,  50,  38],\n",
       "       [  6,   5, 107]], dtype=int64)"
      ]
     },
     "execution_count": 35,
     "metadata": {},
     "output_type": "execute_result"
    }
   ],
   "source": [
    "cm3 = confusion_matrix(y_test, y_pred)\n",
    "cm3\n"
   ]
  },
  {
   "cell_type": "code",
   "execution_count": 36,
   "metadata": {},
   "outputs": [
    {
     "name": "stdout",
     "output_type": "stream",
     "text": [
      "              precision    recall  f1-score   support\n",
      "\n",
      "           0       0.75      0.84      0.79       120\n",
      "           1       0.88      0.43      0.58       116\n",
      "           2       0.66      0.91      0.76       118\n",
      "\n",
      "    accuracy                           0.73       354\n",
      "   macro avg       0.76      0.73      0.71       354\n",
      "weighted avg       0.76      0.73      0.71       354\n",
      "\n"
     ]
    }
   ],
   "source": [
    "print(mt.classification_report(y_test,y_pred))"
   ]
  },
  {
   "cell_type": "code",
   "execution_count": null,
   "metadata": {},
   "outputs": [],
   "source": []
  }
 ],
 "metadata": {
  "kernelspec": {
   "display_name": "Python 3",
   "language": "python",
   "name": "python3"
  },
  "language_info": {
   "codemirror_mode": {
    "name": "ipython",
    "version": 3
   },
   "file_extension": ".py",
   "mimetype": "text/x-python",
   "name": "python",
   "nbconvert_exporter": "python",
   "pygments_lexer": "ipython3",
   "version": "3.8.3"
  }
 },
 "nbformat": 4,
 "nbformat_minor": 4
}
